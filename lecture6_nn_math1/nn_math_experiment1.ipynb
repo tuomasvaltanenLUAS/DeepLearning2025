{
 "cells": [
  {
   "cell_type": "markdown",
   "metadata": {},
   "source": [
    "## Neural network, math experimentation"
   ]
  },
  {
   "cell_type": "code",
   "execution_count": 172,
   "metadata": {},
   "outputs": [],
   "source": [
    "# activation functions\n",
    "# ReLu is very simple, it filters out all negative values\n",
    "# this is a powerful activation function in reality\n",
    "def activation_ReLu(number):\n",
    "    if number > 0:\n",
    "        return number\n",
    "    else:\n",
    "        return 0\n",
    "\n",
    "\n",
    "# we also need a derivated version of ReLu\n",
    "# otherwise same as original, but instead of original value, return 1 instead\n",
    "def activation_ReLu_partial_derivative(number):\n",
    "    if number > 0:\n",
    "        return 1\n",
    "    else:\n",
    "        return 0"
   ]
  },
  {
   "cell_type": "code",
   "execution_count": 173,
   "metadata": {},
   "outputs": [],
   "source": [
    "# initialize weights and biases\n",
    "# in Keras/TensorFlow/PyTorch etc. these are usually randomized in the beginning\n",
    "w1 = 1\n",
    "w2 = 0.5\n",
    "w3 = 1\n",
    "w4 = -0.5\n",
    "w5 = 1\n",
    "w6 = 1\n",
    "bias1 = 0.5\n",
    "bias2 = 0\n",
    "bias3 = 0.5\n",
    "\n",
    "# our training data\n",
    "# x1 = input1, x2 = input2, y = true_value\n",
    "input1 = 1\n",
    "input2 = 0\n",
    "true_value = 2\n",
    "\n",
    "# learning rate\n",
    "LR = 0.01"
   ]
  },
  {
   "cell_type": "markdown",
   "metadata": {},
   "source": [
    "### FORWARD PASS"
   ]
  },
  {
   "cell_type": "code",
   "execution_count": 174,
   "metadata": {},
   "outputs": [
    {
     "data": {
      "text/plain": [
       "1.5"
      ]
     },
     "execution_count": 174,
     "metadata": {},
     "output_type": "execute_result"
    }
   ],
   "source": [
    "# NODE 1 OUTPUT\n",
    "node_1_output = input1 * w1 + input2 * w3 + bias1\n",
    "node_1_output = activation_ReLu(node_1_output)\n",
    "node_1_output"
   ]
  },
  {
   "cell_type": "code",
   "execution_count": 175,
   "metadata": {},
   "outputs": [
    {
     "data": {
      "text/plain": [
       "0.5"
      ]
     },
     "execution_count": 175,
     "metadata": {},
     "output_type": "execute_result"
    }
   ],
   "source": [
    "# NODE 2 OUTPUT\n",
    "node_2_output = input1 * w2 + input2 * w4 + bias2\n",
    "node_2_output = activation_ReLu(node_2_output)\n",
    "node_2_output"
   ]
  },
  {
   "cell_type": "code",
   "execution_count": 176,
   "metadata": {},
   "outputs": [
    {
     "data": {
      "text/plain": [
       "2.5"
      ]
     },
     "execution_count": 176,
     "metadata": {},
     "output_type": "execute_result"
    }
   ],
   "source": [
    "# NODE 3 OUTPUT\n",
    "# we can just use Node 1 and 2 outputs, since they\n",
    "# already contain the previous weights in their result\n",
    "node_3_output = node_1_output * w5 + node_2_output * w6 + bias3\n",
    "node_3_output = activation_ReLu(node_3_output)\n",
    "node_3_output"
   ]
  },
  {
   "cell_type": "code",
   "execution_count": 177,
   "metadata": {},
   "outputs": [
    {
     "name": "stdout",
     "output_type": "stream",
     "text": [
      "Predicted: 2.5 --> True value should be: 2\n"
     ]
    }
   ],
   "source": [
    "# compare predicted value with true value\n",
    "print(f\"Predicted: {node_3_output} --> True value should be: {true_value}\")"
   ]
  },
  {
   "cell_type": "code",
   "execution_count": 178,
   "metadata": {},
   "outputs": [
    {
     "data": {
      "text/plain": [
       "0.25"
      ]
     },
     "execution_count": 178,
     "metadata": {},
     "output_type": "execute_result"
    }
   ],
   "source": [
    "# LOSS FUNCTION - we are going to use MSE -> mean squared error\n",
    "# MSE formula for LOSS => (predicted_value - true_value) ^ 2\n",
    "predicted_value = node_3_output\n",
    "loss = (predicted_value - true_value) ** 2\n",
    "loss"
   ]
  },
  {
   "cell_type": "markdown",
   "metadata": {},
   "source": [
    "### BACKPROPAGATION - update the weights and biases while traversing the network BACKWARDS"
   ]
  },
  {
   "cell_type": "code",
   "execution_count": 179,
   "metadata": {},
   "outputs": [
    {
     "data": {
      "text/plain": [
       "1.5"
      ]
     },
     "execution_count": 179,
     "metadata": {},
     "output_type": "execute_result"
    }
   ],
   "source": [
    "# solving the partial derivative of the loss function with respect to w5\n",
    "deriv_L_w5 = 2 * node_1_output * (node_1_output * w5 + node_2_output * w6 + bias3 - true_value)\n",
    "deriv_L_w5"
   ]
  },
  {
   "cell_type": "code",
   "execution_count": 180,
   "metadata": {},
   "outputs": [
    {
     "data": {
      "text/plain": [
       "0.985"
      ]
     },
     "execution_count": 180,
     "metadata": {},
     "output_type": "execute_result"
    }
   ],
   "source": [
    "# the weight was decreased a little bit\n",
    "# this is basically our optimizer + learning rate\n",
    "# this optimizer is known as gradient descent\n",
    "new_w5 = w5 - LR * deriv_L_w5\n",
    "new_w5"
   ]
  },
  {
   "cell_type": "code",
   "execution_count": 181,
   "metadata": {},
   "outputs": [
    {
     "data": {
      "text/plain": [
       "0.5"
      ]
     },
     "execution_count": 181,
     "metadata": {},
     "output_type": "execute_result"
    }
   ],
   "source": [
    "# solving the partial derivative of the loss function with respect to w6\n",
    "deriv_L_w6 = 2 * node_2_output * (node_1_output * w5 + node_2_output * w6 + bias3 - true_value)\n",
    "deriv_L_w6"
   ]
  },
  {
   "cell_type": "code",
   "execution_count": 182,
   "metadata": {},
   "outputs": [
    {
     "data": {
      "text/plain": [
       "0.995"
      ]
     },
     "execution_count": 182,
     "metadata": {},
     "output_type": "execute_result"
    }
   ],
   "source": [
    "# update also w6 with optimizer\n",
    "new_w6 = w6 - LR * deriv_L_w6\n",
    "new_w6"
   ]
  },
  {
   "cell_type": "code",
   "execution_count": 183,
   "metadata": {},
   "outputs": [
    {
     "data": {
      "text/plain": [
       "1.0"
      ]
     },
     "execution_count": 183,
     "metadata": {},
     "output_type": "execute_result"
    }
   ],
   "source": [
    "# solving the partial derivative of the loss function with respect to bias3\n",
    "# NOTE! the * 1 comes from derivating the bias, which is same as derivating x\n",
    "# which will result in 1\n",
    "deriv_L_b3 = 2 * 1 * (node_1_output * w5 + node_2_output * w6 + bias3 - true_value)\n",
    "deriv_L_b3"
   ]
  },
  {
   "cell_type": "code",
   "execution_count": 184,
   "metadata": {},
   "outputs": [
    {
     "data": {
      "text/plain": [
       "0.49"
      ]
     },
     "execution_count": 184,
     "metadata": {},
     "output_type": "execute_result"
    }
   ],
   "source": [
    "# update also w6 with optimizer based previous derivation\n",
    "new_b3 = bias3 - LR * deriv_L_b3\n",
    "new_b3"
   ]
  },
  {
   "cell_type": "markdown",
   "metadata": {},
   "source": [
    "**To access the first layer, we need to use the CHAIN RULE, in order to calculate the new values for w1-w4 and bias1/2**"
   ]
  },
  {
   "cell_type": "code",
   "execution_count": 185,
   "metadata": {},
   "outputs": [
    {
     "data": {
      "text/plain": [
       "0.99"
      ]
     },
     "execution_count": 185,
     "metadata": {},
     "output_type": "execute_result"
    }
   ],
   "source": [
    "# see materials for how we need to split this calculation into two parts\n",
    "# here we solve the left and right sides separately\n",
    "\n",
    "# left side is mostyl the same as derivating w5 and w6\n",
    "deriv_L_w1_left = 2 * w5 * (node_1_output * w5 + node_2_output * w6 + bias3 - true_value)\n",
    "\n",
    "# right side: use ReLu derivation and remember to match correct weights with correct inputs/biases\n",
    "# based on WHICH WEIGHT you are derivating\n",
    "# COMPARE THIS TO THE ORIGINAL MATERIALS AND PICTURE\n",
    "# in the case of w1 => use w1 and w3 inside the ReLu-derivation, because\n",
    "# these weights are connected to node 1 (which is connected to w1)\n",
    "# also use bias1, since it's part of node 1\n",
    "# finally, multiply all with input 1, because it's connected to w1\n",
    "deriv_L_w1_right = activation_ReLu_partial_derivative(input1 * w1 + input2 * w3 + bias1) * input1\n",
    "deriv_L_w1 = deriv_L_w1_left * deriv_L_w1_right\n",
    "new_w1 = w1 - LR * deriv_L_w1\n",
    "new_w1"
   ]
  },
  {
   "cell_type": "code",
   "execution_count": 186,
   "metadata": {},
   "outputs": [
    {
     "data": {
      "text/plain": [
       "0.49"
      ]
     },
     "execution_count": 186,
     "metadata": {},
     "output_type": "execute_result"
    }
   ],
   "source": [
    "# use the same logic as above, but now from the point of view of w2\n",
    "# notice how we use w6 and w2/w4 and bias2 in the right side equation\n",
    "deriv_L_w2_left = 2 * w6 * (node_1_output * w5 + node_2_output * w6 + bias3 - true_value)\n",
    "deriv_L_w2_right = activation_ReLu_partial_derivative(input1 * w1 + input2 * w3 + bias1) * input1\n",
    "deriv_L_w2 = deriv_L_w2_left * deriv_L_w2_right\n",
    "new_w2 = w2 - LR * deriv_L_w2\n",
    "new_w2"
   ]
  },
  {
   "cell_type": "code",
   "execution_count": 187,
   "metadata": {},
   "outputs": [
    {
     "data": {
      "text/plain": [
       "1.0"
      ]
     },
     "execution_count": 187,
     "metadata": {},
     "output_type": "execute_result"
    }
   ],
   "source": [
    "# use the same logic as above, but now from the point of view of w2\n",
    "# notice how we use w6 and w2/w4 and bias2 in the right side equation\n",
    "deriv_L_w3_left = 2 * w5 * (node_1_output * w5 + node_2_output * w6 + bias3 - true_value)\n",
    "deriv_L_w3_right = activation_ReLu_partial_derivative(input1 * w1 + input2 * w3 + bias1) * input2\n",
    "deriv_L_w3 = deriv_L_w3_left * deriv_L_w3_right\n",
    "new_w3 = w3 - LR * deriv_L_w3\n",
    "new_w3"
   ]
  },
  {
   "cell_type": "code",
   "execution_count": 188,
   "metadata": {},
   "outputs": [
    {
     "data": {
      "text/plain": [
       "-0.5"
      ]
     },
     "execution_count": 188,
     "metadata": {},
     "output_type": "execute_result"
    }
   ],
   "source": [
    "# use the same logic as above, but now from the point of view of w2\n",
    "# notice how we use w6 and w2/w4 and bias2 in the right side equation\n",
    "deriv_L_w4_left = 2 * w6 * (node_1_output * w5 + node_2_output * w6 + bias3 - true_value)\n",
    "deriv_L_w4_right = activation_ReLu_partial_derivative(input1 * w1 + input2 * w3 + bias1) * input2\n",
    "deriv_L_w4 = deriv_L_w4_left * deriv_L_w4_right\n",
    "new_w4 = w4 - LR * deriv_L_w4\n",
    "new_w4"
   ]
  },
  {
   "cell_type": "code",
   "execution_count": 189,
   "metadata": {},
   "outputs": [
    {
     "data": {
      "text/plain": [
       "0.49"
      ]
     },
     "execution_count": 189,
     "metadata": {},
     "output_type": "execute_result"
    }
   ],
   "source": [
    "# with bias, otherwise the same formula, but we can multiply the right side function with just 1\n",
    "# because it's a derivation of bias => which is the same as derivation of x => which is always 1\n",
    "deriv_L_b1_left = 2 * w5 * (node_1_output * w5 + node_2_output * w6 + bias3 - true_value)\n",
    "deriv_L_b1_right = activation_ReLu_partial_derivative(input1 * w1 + input2 * w3 + bias1) * 1\n",
    "deriv_L_b1 = deriv_L_b1_left * deriv_L_b1_right\n",
    "new_b1 = bias1 - LR * deriv_L_b1\n",
    "new_b1"
   ]
  },
  {
   "cell_type": "code",
   "execution_count": 190,
   "metadata": {},
   "outputs": [
    {
     "data": {
      "text/plain": [
       "-0.01"
      ]
     },
     "execution_count": 190,
     "metadata": {},
     "output_type": "execute_result"
    }
   ],
   "source": [
    "# with bias, otherwise the same formula, but we can multiply the right side function with just 1\n",
    "# because it's a derivation of bias => which is the same as derivation of x => which is always 1\n",
    "deriv_L_b2_left = 2 * w6 * (node_1_output * w5 + node_2_output * w6 + bias3 - true_value)\n",
    "deriv_L_b2_right = activation_ReLu_partial_derivative(input1 * w1 + input2 * w3 + bias1) * 1\n",
    "deriv_L_b2 = deriv_L_b2_left * deriv_L_b2_right\n",
    "new_b2 = bias2 - LR * deriv_L_b2\n",
    "new_b2"
   ]
  },
  {
   "cell_type": "markdown",
   "metadata": {},
   "source": [
    "**Everything shuld be okay now... let's compare the results**"
   ]
  },
  {
   "cell_type": "code",
   "execution_count": 191,
   "metadata": {},
   "outputs": [
    {
     "name": "stdout",
     "output_type": "stream",
     "text": [
      "ORIGINAL WEIGHTS AND BIASES\n",
      "w1: 1\n",
      "w2: 0.5\n",
      "w3: 1\n",
      "w4: -0.5\n",
      "w5: 1\n",
      "w6: 1\n",
      "b1: 0.5\n",
      "b2: 0\n",
      "b3: 0.5\n",
      "\n",
      "\n",
      "#################################\n",
      "NEW WEIGHTS AND BIASES\n",
      "w1: 0.99\n",
      "w2: 0.49\n",
      "w3: 1.0\n",
      "w4: -0.5\n",
      "w5: 0.985\n",
      "w6: 0.995\n",
      "b1: 0.49\n",
      "b2: -0.01\n",
      "b3: 0.49\n"
     ]
    }
   ],
   "source": [
    "print(\"ORIGINAL WEIGHTS AND BIASES\")\n",
    "print(f\"w1: {w1}\")\n",
    "print(f\"w2: {w2}\")\n",
    "print(f\"w3: {w3}\")\n",
    "print(f\"w4: {w4}\")\n",
    "print(f\"w5: {w5}\")\n",
    "print(f\"w6: {w6}\")\n",
    "print(f\"b1: {bias1}\")\n",
    "print(f\"b2: {bias2}\")\n",
    "print(f\"b3: {bias3}\")\n",
    "\n",
    "print(\"\\n\\n#################################\")\n",
    "\n",
    "print(\"NEW WEIGHTS AND BIASES\")\n",
    "print(f\"w1: {new_w1}\")\n",
    "print(f\"w2: {new_w2}\")\n",
    "print(f\"w3: {new_w3}\")\n",
    "print(f\"w4: {new_w4}\")\n",
    "print(f\"w5: {new_w5}\")\n",
    "print(f\"w6: {new_w6}\")\n",
    "print(f\"b1: {new_b1}\")\n",
    "print(f\"b2: {new_b2}\")\n",
    "print(f\"b3: {new_b3}\")\n",
    "\n"
   ]
  },
  {
   "cell_type": "code",
   "execution_count": null,
   "metadata": {},
   "outputs": [],
   "source": []
  },
  {
   "cell_type": "markdown",
   "metadata": {},
   "source": []
  },
  {
   "cell_type": "markdown",
   "metadata": {},
   "source": []
  }
 ],
 "metadata": {
  "kernelspec": {
   "display_name": ".venv",
   "language": "python",
   "name": "python3"
  },
  "language_info": {
   "codemirror_mode": {
    "name": "ipython",
    "version": 3
   },
   "file_extension": ".py",
   "mimetype": "text/x-python",
   "name": "python",
   "nbconvert_exporter": "python",
   "pygments_lexer": "ipython3",
   "version": "3.12.10"
  }
 },
 "nbformat": 4,
 "nbformat_minor": 2
}
