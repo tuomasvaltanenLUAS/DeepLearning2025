{
 "cells": [
  {
   "cell_type": "markdown",
   "metadata": {},
   "source": [
    "## Neural network, math experimentation"
   ]
  },
  {
   "cell_type": "code",
   "execution_count": 87,
   "metadata": {},
   "outputs": [],
   "source": [
    "# activation functions\n",
    "# ReLu is very simple, it filters out all negative values\n",
    "# this is a powerful activation function in reality\n",
    "def activation_ReLu(number):\n",
    "    if number > 0:\n",
    "        return number\n",
    "    else:\n",
    "        return 0\n",
    "\n",
    "\n",
    "# we also need a derivated version of ReLu\n",
    "# otherwise same as original, but instead of original value, return 1 instead\n",
    "def activation_ReLu_partial_derivative(number):\n",
    "    if number > 0:\n",
    "        return 1\n",
    "    else:\n",
    "        return 0"
   ]
  },
  {
   "cell_type": "code",
   "execution_count": 88,
   "metadata": {},
   "outputs": [],
   "source": [
    "# initialize weights and biases\n",
    "# in Keras/TensorFlow/PyTorch etc. these are usually randomized in the beginning\n",
    "w1 = 1\n",
    "w2 = 0.5\n",
    "w3 = 1\n",
    "w4 = -0.5\n",
    "w5 = 1\n",
    "w6 = 1\n",
    "bias1 = 0.5\n",
    "bias2 = 0\n",
    "bias3 = 0.5\n",
    "\n",
    "# our training data\n",
    "# x1 = input1, x2 = input2, y = true_value\n",
    "input1 = 1\n",
    "input2 = 0\n",
    "true_value = 2\n",
    "\n",
    "# learning rate\n",
    "LR = 0.01"
   ]
  },
  {
   "cell_type": "markdown",
   "metadata": {},
   "source": [
    "### FORWARD PASS"
   ]
  },
  {
   "cell_type": "code",
   "execution_count": 89,
   "metadata": {},
   "outputs": [
    {
     "data": {
      "text/plain": [
       "1.5"
      ]
     },
     "execution_count": 89,
     "metadata": {},
     "output_type": "execute_result"
    }
   ],
   "source": [
    "# NODE 1 OUTPUT\n",
    "node_1_output = input1 * w1 + input2 * w3 + bias1\n",
    "node_1_output = activation_ReLu(node_1_output)\n",
    "node_1_output"
   ]
  },
  {
   "cell_type": "code",
   "execution_count": 90,
   "metadata": {},
   "outputs": [
    {
     "data": {
      "text/plain": [
       "0.5"
      ]
     },
     "execution_count": 90,
     "metadata": {},
     "output_type": "execute_result"
    }
   ],
   "source": [
    "# NODE 2 OUTPUT\n",
    "node_2_output = input1 * w2 + input2 * w4 + bias2\n",
    "node_2_output = activation_ReLu(node_2_output)\n",
    "node_2_output"
   ]
  },
  {
   "cell_type": "code",
   "execution_count": 91,
   "metadata": {},
   "outputs": [
    {
     "data": {
      "text/plain": [
       "2.5"
      ]
     },
     "execution_count": 91,
     "metadata": {},
     "output_type": "execute_result"
    }
   ],
   "source": [
    "# NODE 3 OUTPUT\n",
    "# we can just use Node 1 and 2 outputs, since they\n",
    "# already contain the previous weights in their result\n",
    "node_3_output = node_1_output * w5 + node_2_output * w6 + bias3\n",
    "node_3_output = activation_ReLu(node_3_output)\n",
    "node_3_output"
   ]
  },
  {
   "cell_type": "code",
   "execution_count": 92,
   "metadata": {},
   "outputs": [
    {
     "name": "stdout",
     "output_type": "stream",
     "text": [
      "Predicted: 2.5 --> True value should be: 2\n"
     ]
    }
   ],
   "source": [
    "# compare predicted value with true value\n",
    "print(f\"Predicted: {node_3_output} --> True value should be: {true_value}\")"
   ]
  },
  {
   "cell_type": "code",
   "execution_count": 93,
   "metadata": {},
   "outputs": [
    {
     "data": {
      "text/plain": [
       "0.25"
      ]
     },
     "execution_count": 93,
     "metadata": {},
     "output_type": "execute_result"
    }
   ],
   "source": [
    "# LOSS FUNCTION - we are going to use MSE -> mean squared error\n",
    "# MSE formula for LOSS => (predicted_value - true_value) ^ 2\n",
    "predicted_value = node_3_output\n",
    "loss = (predicted_value - true_value) ** 2\n",
    "loss"
   ]
  },
  {
   "cell_type": "markdown",
   "metadata": {},
   "source": [
    "### BACKPROPAGATION - update the weights and biases while traversing the network BACKWARDS"
   ]
  },
  {
   "cell_type": "code",
   "execution_count": 94,
   "metadata": {},
   "outputs": [
    {
     "data": {
      "text/plain": [
       "1.5"
      ]
     },
     "execution_count": 94,
     "metadata": {},
     "output_type": "execute_result"
    }
   ],
   "source": [
    "# solving the partial derivative of the loss function with respect to w5\n",
    "deriv_L_w5 = 2 * node_1_output * (node_1_output * w5 + node_2_output * w6 + bias3 - true_value)\n",
    "deriv_L_w5"
   ]
  },
  {
   "cell_type": "code",
   "execution_count": 95,
   "metadata": {},
   "outputs": [
    {
     "data": {
      "text/plain": [
       "0.985"
      ]
     },
     "execution_count": 95,
     "metadata": {},
     "output_type": "execute_result"
    }
   ],
   "source": [
    "# the weight was decreased a little bit\n",
    "# this is basically our optimizer + learning rate\n",
    "# this optimizer is known as gradient descent\n",
    "new_w5 = w5 - LR * deriv_L_w5\n",
    "new_w5"
   ]
  },
  {
   "cell_type": "code",
   "execution_count": 96,
   "metadata": {},
   "outputs": [
    {
     "data": {
      "text/plain": [
       "0.5"
      ]
     },
     "execution_count": 96,
     "metadata": {},
     "output_type": "execute_result"
    }
   ],
   "source": [
    "# solving the partial derivative of the loss function with respect to w6\n",
    "deriv_L_w6 = 2 * node_2_output * (node_1_output * w5 + node_2_output * w6 + bias3 - true_value)\n",
    "deriv_L_w6"
   ]
  },
  {
   "cell_type": "code",
   "execution_count": 97,
   "metadata": {},
   "outputs": [
    {
     "data": {
      "text/plain": [
       "0.995"
      ]
     },
     "execution_count": 97,
     "metadata": {},
     "output_type": "execute_result"
    }
   ],
   "source": [
    "# update also w6 with optimizer\n",
    "new_w6 = w6 - LR * deriv_L_w6\n",
    "new_w6"
   ]
  },
  {
   "cell_type": "code",
   "execution_count": 98,
   "metadata": {},
   "outputs": [
    {
     "data": {
      "text/plain": [
       "1.0"
      ]
     },
     "execution_count": 98,
     "metadata": {},
     "output_type": "execute_result"
    }
   ],
   "source": [
    "# solving the partial derivative of the loss function with respect to bias3\n",
    "# NOTE! the * 1 comes from derivating the bias, which is same as derivating x\n",
    "# which will result in 1\n",
    "deriv_L_b3 = 2 * 1 * (node_1_output * w5 + node_2_output * w6 + bias3 - true_value)\n",
    "deriv_L_b3"
   ]
  },
  {
   "cell_type": "code",
   "execution_count": 99,
   "metadata": {},
   "outputs": [
    {
     "data": {
      "text/plain": [
       "0.49"
      ]
     },
     "execution_count": 99,
     "metadata": {},
     "output_type": "execute_result"
    }
   ],
   "source": [
    "# update also w6 with optimizer based previous derivation\n",
    "new_b3 = bias3 - LR * deriv_L_b3\n",
    "new_b3"
   ]
  },
  {
   "cell_type": "markdown",
   "metadata": {},
   "source": [
    "**To access the first layer, we need to use the CHAIN RULE, in order to calculate the new values for w1-w4 and bias1/2**"
   ]
  },
  {
   "cell_type": "code",
   "execution_count": 100,
   "metadata": {},
   "outputs": [
    {
     "data": {
      "text/plain": [
       "0.99"
      ]
     },
     "execution_count": 100,
     "metadata": {},
     "output_type": "execute_result"
    }
   ],
   "source": [
    "# see materials for how we need to split this calculation into two parts\n",
    "# here we solve the left and right sides separately\n",
    "\n",
    "# left side is mostyl the same as derivating w5 and w6\n",
    "deriv_L_w1_left = 2 * w5 * (node_1_output * w5 + node_2_output * w6 + bias3 - true_value)\n",
    "\n",
    "# right side: use ReLu derivation and remember to match correct weights with correct inputs/biases\n",
    "# based on WHICH WEIGHT you are derivating\n",
    "# COMPARE THIS TO THE ORIGINAL MATERIALS AND PICTURE\n",
    "# in the case of w1 => use w1 and w3 inside the ReLu-derivation, because\n",
    "# these weights are connected to node 1 (which is connected to w1)\n",
    "# also use bias1, since it's part of node 1\n",
    "# finally, multiply all with input 1, because it's connected to w1\n",
    "deriv_L_w1_right = activation_ReLu_partial_derivative(input1 * w1 + input2 * w3 + bias1) * input1\n",
    "deriv_L_w1 = deriv_L_w1_left * deriv_L_w1_right\n",
    "new_w1 = w1 - LR * deriv_L_w1\n",
    "new_w1"
   ]
  },
  {
   "cell_type": "code",
   "execution_count": 101,
   "metadata": {},
   "outputs": [
    {
     "data": {
      "text/plain": [
       "0.49"
      ]
     },
     "execution_count": 101,
     "metadata": {},
     "output_type": "execute_result"
    }
   ],
   "source": [
    "# with bias, otherwise the same formula, but we can multiply the right side function with just 1\n",
    "# because it's a derivation of bias => which is the same as derivation of x => which is always 1\n",
    "deriv_L_b1_left = 2 * w5 * (node_1_output * w5 + node_2_output * w6 + bias3 - true_value)\n",
    "deriv_L_b1_right = activation_ReLu_partial_derivative(input1 * w1 + input2 * w3 + bias1) * 1\n",
    "deriv_L_b1 = deriv_L_b1_left * deriv_L_b1_right\n",
    "new_b1 = bias1 - LR * deriv_L_b1\n",
    "new_b1"
   ]
  },
  {
   "cell_type": "markdown",
   "metadata": {},
   "source": []
  }
 ],
 "metadata": {
  "kernelspec": {
   "display_name": ".venv",
   "language": "python",
   "name": "python3"
  },
  "language_info": {
   "codemirror_mode": {
    "name": "ipython",
    "version": 3
   },
   "file_extension": ".py",
   "mimetype": "text/x-python",
   "name": "python",
   "nbconvert_exporter": "python",
   "pygments_lexer": "ipython3",
   "version": "3.12.10"
  }
 },
 "nbformat": 4,
 "nbformat_minor": 2
}
